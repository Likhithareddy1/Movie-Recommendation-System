{
  "nbformat": 4,
  "nbformat_minor": 0,
  "metadata": {
    "colab": {
      "provenance": [],
      "gpuType": "T4",
      "include_colab_link": true
    },
    "kernelspec": {
      "name": "ir",
      "display_name": "R"
    },
    "language_info": {
      "name": "R"
    },
    "accelerator": "GPU"
  },
  "cells": [
    {
      "cell_type": "markdown",
      "metadata": {
        "id": "view-in-github",
        "colab_type": "text"
      },
      "source": [
        "<a href=\"https://colab.research.google.com/github/Likhithareddy1/Movie-Recommendation-System/blob/main/DM_ProjPreproc.ipynb\" target=\"_parent\"><img src=\"https://colab.research.google.com/assets/colab-badge.svg\" alt=\"Open In Colab\"/></a>"
      ]
    },
    {
      "cell_type": "code",
      "execution_count": 5,
      "metadata": {
        "id": "-ku8Ov35FLe-",
        "outputId": "34887f26-6eb4-4161-ab8b-2d947fe075ef",
        "colab": {
          "base_uri": "https://localhost:8080/"
        }
      },
      "outputs": [
        {
          "output_type": "stream",
          "name": "stderr",
          "text": [
            "Installing package into ‘/usr/local/lib/R/site-library’\n",
            "(as ‘lib’ is unspecified)\n",
            "\n",
            "also installing the dependency ‘plyr’\n",
            "\n",
            "\n",
            "Installing package into ‘/usr/local/lib/R/site-library’\n",
            "(as ‘lib’ is unspecified)\n",
            "\n",
            "also installing the dependencies ‘float’, ‘RcppProgress’, ‘arules’, ‘proxy’, ‘registry’, ‘irlba’, ‘recosystem’, ‘matrixStats’\n",
            "\n",
            "\n",
            "Installing package into ‘/usr/local/lib/R/site-library’\n",
            "(as ‘lib’ is unspecified)\n",
            "\n",
            "Loading required package: Matrix\n",
            "\n",
            "Loading required package: arules\n",
            "\n",
            "\n",
            "Attaching package: ‘arules’\n",
            "\n",
            "\n",
            "The following objects are masked from ‘package:base’:\n",
            "\n",
            "    abbreviate, write\n",
            "\n",
            "\n",
            "Loading required package: proxy\n",
            "\n",
            "\n",
            "Attaching package: ‘proxy’\n",
            "\n",
            "\n",
            "The following object is masked from ‘package:Matrix’:\n",
            "\n",
            "    as.matrix\n",
            "\n",
            "\n",
            "The following objects are masked from ‘package:stats’:\n",
            "\n",
            "    as.dist, dist\n",
            "\n",
            "\n",
            "The following object is masked from ‘package:base’:\n",
            "\n",
            "    as.matrix\n",
            "\n",
            "\n",
            "Registered S3 methods overwritten by 'registry':\n",
            "  method               from \n",
            "  print.registry_field proxy\n",
            "  print.registry_entry proxy\n",
            "\n"
          ]
        }
      ],
      "source": [
        "# Load Libraries\n",
        "install.packages(\"reshape2\")\n",
        "install.packages(\"recommenderlab\")\n",
        "install.packages(\"proxy\")\n",
        "library(reshape2)\n",
        "library(recommenderlab)\n",
        "library(proxy)"
      ]
    },
    {
      "cell_type": "code",
      "source": [
        "# Load the dataset csv's\n",
        "rating <- read.csv(\"/content/rating.csv\")\n",
        "movie <- read.csv(\"/content/movie.csv\")\n",
        "genome_scores <- read.csv(\"/content/genome_scores.csv\")\n",
        "tag <- read.csv(\"/content/tag.csv\")\n",
        "link <- read.csv(\"/content/link.csv\")\n",
        "genome_tags <- read.csv(\"/content/genome_tags.csv\")\n",
        "\n"
      ],
      "metadata": {
        "id": "U0_CvYeQGLPf"
      },
      "execution_count": 6,
      "outputs": []
    },
    {
      "cell_type": "code",
      "source": [
        "dim(rating)\n",
        "dim(movie)\n",
        "dim(genome_scores)\n",
        "dim(tag)\n",
        "dim(link)\n",
        "dim(genome_tags)"
      ],
      "metadata": {
        "id": "LBWaONMTQC57"
      },
      "execution_count": null,
      "outputs": []
    },
    {
      "cell_type": "code",
      "source": [
        "# Inspect the dataset\n",
        "str(rating)\n",
        "summary(rating)\n",
        "str(movie)\n",
        "summary(movie)\n",
        "str(genome_scores)\n",
        "summary(genome_scores)\n",
        "str(tag)\n",
        "summary(tag)\n",
        "str(link)\n",
        "summary(link)\n",
        "str(genome_tags)\n",
        "summary(genome_tags)"
      ],
      "metadata": {
        "colab": {
          "base_uri": "https://localhost:8080/",
          "height": 1000
        },
        "id": "w7XOB0itGRGD",
        "outputId": "e5e152ff-04ad-4896-e31b-d9e7970a8027"
      },
      "execution_count": 4,
      "outputs": [
        {
          "output_type": "stream",
          "name": "stdout",
          "text": [
            "'data.frame':\t4721346 obs. of  4 variables:\n",
            " $ userId   : int  1 1 1 1 1 1 1 1 1 1 ...\n",
            " $ movieId  : int  2 29 32 47 50 112 151 223 253 260 ...\n",
            " $ rating   : num  3.5 3.5 3.5 3.5 3.5 3.5 4 4 4 4 ...\n",
            " $ timestamp: chr  \"2005-04-02 23:53:47\" \"2005-04-02 23:31:16\" \"2005-04-02 23:33:39\" \"2005-04-02 23:32:07\" ...\n"
          ]
        },
        {
          "output_type": "display_data",
          "data": {
            "text/plain": [
              "     userId         movieId           rating       timestamp        \n",
              " Min.   :    1   Min.   :     1   Min.   :0.500   Length:4721346    \n",
              " 1st Qu.: 8067   1st Qu.:   904   1st Qu.:3.000   Class :character  \n",
              " Median :15964   Median :  2174   Median :3.500   Mode  :character  \n",
              " Mean   :16057   Mean   :  9085   Mean   :3.519                     \n",
              " 3rd Qu.:24141   3rd Qu.:  4817   3rd Qu.:4.000                     \n",
              " Max.   :32398   Max.   :131258   Max.   :5.000                     \n",
              "                 NA's   :1        NA's   :1                         "
            ]
          },
          "metadata": {}
        },
        {
          "output_type": "stream",
          "name": "stdout",
          "text": [
            "'data.frame':\t27278 obs. of  3 variables:\n",
            " $ movieId: int  1 2 3 4 5 6 7 8 9 10 ...\n",
            " $ title  : chr  \"Toy Story (1995)\" \"Jumanji (1995)\" \"Grumpier Old Men (1995)\" \"Waiting to Exhale (1995)\" ...\n",
            " $ genres : chr  \"Adventure|Animation|Children|Comedy|Fantasy\" \"Adventure|Children|Fantasy\" \"Comedy|Romance\" \"Comedy|Drama|Romance\" ...\n"
          ]
        },
        {
          "output_type": "display_data",
          "data": {
            "text/plain": [
              "    movieId          title              genres         \n",
              " Min.   :     1   Length:27278       Length:27278      \n",
              " 1st Qu.:  6931   Class :character   Class :character  \n",
              " Median : 68068   Mode  :character   Mode  :character  \n",
              " Mean   : 59855                                        \n",
              " 3rd Qu.:100293                                        \n",
              " Max.   :131262                                        "
            ]
          },
          "metadata": {}
        },
        {
          "output_type": "stream",
          "name": "stdout",
          "text": [
            "'data.frame':\t8862490 obs. of  3 variables:\n",
            " $ movieId  : int  1 1 1 1 1 1 1 1 1 1 ...\n",
            " $ tagId    : int  1 2 3 4 5 6 7 8 9 10 ...\n",
            " $ relevance: num  0.025 0.025 0.0578 0.0968 0.1467 ...\n"
          ]
        },
        {
          "output_type": "display_data",
          "data": {
            "text/plain": [
              "    movieId          tagId          relevance      \n",
              " Min.   :    1   Min.   :   1.0   Min.   :0.00025  \n",
              " 1st Qu.: 2243   1st Qu.: 282.0   1st Qu.:0.02450  \n",
              " Median : 4443   Median : 564.0   Median :0.05700  \n",
              " Mean   : 7925   Mean   : 564.5   Mean   :0.11618  \n",
              " 3rd Qu.: 7008   3rd Qu.: 846.0   3rd Qu.:0.14150  \n",
              " Max.   :47997   Max.   :1128.0   Max.   :1.00000  \n",
              "                 NA's   :1        NA's   :1        "
            ]
          },
          "metadata": {}
        },
        {
          "output_type": "stream",
          "name": "stdout",
          "text": [
            "'data.frame':\t465564 obs. of  4 variables:\n",
            " $ userId   : int  18 65 65 65 65 65 65 65 65 65 ...\n",
            " $ movieId  : int  4141 208 353 521 592 668 898 1248 1391 1617 ...\n",
            " $ tag      : chr  \"Mark Waters\" \"dark hero\" \"dark hero\" \"noir thriller\" ...\n",
            " $ timestamp: chr  \"2009-04-24 18:19:40\" \"2013-05-10 01:41:18\" \"2013-05-10 01:41:19\" \"2013-05-10 01:39:43\" ...\n"
          ]
        },
        {
          "output_type": "display_data",
          "data": {
            "text/plain": [
              "     userId          movieId           tag             timestamp        \n",
              " Min.   :    18   Min.   :     1   Length:465564      Length:465564     \n",
              " 1st Qu.: 28780   1st Qu.:  2571   Class :character   Class :character  \n",
              " Median : 70201   Median :  7373   Mode  :character   Mode  :character  \n",
              " Mean   : 68712   Mean   : 32628                                        \n",
              " 3rd Qu.:107322   3rd Qu.: 62235                                        \n",
              " Max.   :138472   Max.   :131258                                        "
            ]
          },
          "metadata": {}
        },
        {
          "output_type": "stream",
          "name": "stdout",
          "text": [
            "'data.frame':\t27278 obs. of  3 variables:\n",
            " $ movieId: int  1 2 3 4 5 6 7 8 9 10 ...\n",
            " $ imdbId : int  114709 113497 113228 114885 113041 113277 114319 112302 114576 113189 ...\n",
            " $ tmdbId : int  862 8844 15602 31357 11862 949 11860 45325 9091 710 ...\n"
          ]
        },
        {
          "output_type": "display_data",
          "data": {
            "text/plain": [
              "    movieId           imdbId            tmdbId      \n",
              " Min.   :     1   Min.   :      5   Min.   :     2  \n",
              " 1st Qu.:  6931   1st Qu.:  77417   1st Qu.: 15936  \n",
              " Median : 68068   Median : 152435   Median : 39468  \n",
              " Mean   : 59855   Mean   : 578186   Mean   : 63847  \n",
              " 3rd Qu.:100293   3rd Qu.: 906272   3rd Qu.: 82504  \n",
              " Max.   :131262   Max.   :4530184   Max.   :421510  \n",
              "                                    NA's   :252     "
            ]
          },
          "metadata": {}
        },
        {
          "output_type": "stream",
          "name": "stdout",
          "text": [
            "'data.frame':\t1128 obs. of  2 variables:\n",
            " $ tagId: int  1 2 3 4 5 6 7 8 9 10 ...\n",
            " $ tag  : chr  \"007\" \"007 (series)\" \"18th century\" \"1920s\" ...\n"
          ]
        },
        {
          "output_type": "display_data",
          "data": {
            "text/plain": [
              "     tagId            tag           \n",
              " Min.   :   1.0   Length:1128       \n",
              " 1st Qu.: 282.8   Class :character  \n",
              " Median : 564.5   Mode  :character  \n",
              " Mean   : 564.5                     \n",
              " 3rd Qu.: 846.2                     \n",
              " Max.   :1128.0                     "
            ]
          },
          "metadata": {}
        }
      ]
    },
    {
      "cell_type": "code",
      "source": [
        "# Check for missing values in ratings and movies datasets\n",
        "\n",
        "sum(is.na(rating))  # Should ideally return 0\n",
        "sum(is.na(movie))\n",
        "sum(is.na(genome_scores))\n",
        "sum(is.na(tag))\n",
        "sum(is.na(link))\n",
        "sum(is.na(genome_tags))\n"
      ],
      "metadata": {
        "colab": {
          "base_uri": "https://localhost:8080/",
          "height": 121
        },
        "id": "nqF8c2-RGUKZ",
        "outputId": "0ca7419c-5142-419f-f5b6-ccb26c35ff06"
      },
      "execution_count": 8,
      "outputs": [
        {
          "output_type": "display_data",
          "data": {
            "text/html": [
              "0"
            ],
            "text/markdown": "0",
            "text/latex": "0",
            "text/plain": [
              "[1] 0"
            ]
          },
          "metadata": {}
        },
        {
          "output_type": "display_data",
          "data": {
            "text/html": [
              "0"
            ],
            "text/markdown": "0",
            "text/latex": "0",
            "text/plain": [
              "[1] 0"
            ]
          },
          "metadata": {}
        },
        {
          "output_type": "display_data",
          "data": {
            "text/html": [
              "0"
            ],
            "text/markdown": "0",
            "text/latex": "0",
            "text/plain": [
              "[1] 0"
            ]
          },
          "metadata": {}
        },
        {
          "output_type": "display_data",
          "data": {
            "text/html": [
              "16"
            ],
            "text/markdown": "16",
            "text/latex": "16",
            "text/plain": [
              "[1] 16"
            ]
          },
          "metadata": {}
        },
        {
          "output_type": "display_data",
          "data": {
            "text/html": [
              "252"
            ],
            "text/markdown": "252",
            "text/latex": "252",
            "text/plain": [
              "[1] 252"
            ]
          },
          "metadata": {}
        },
        {
          "output_type": "display_data",
          "data": {
            "text/html": [
              "0"
            ],
            "text/markdown": "0",
            "text/latex": "0",
            "text/plain": [
              "[1] 0"
            ]
          },
          "metadata": {}
        }
      ]
    },
    {
      "cell_type": "code",
      "source": [
        "#Check which columns in file are missing\n",
        "missing_counts <- colSums(is.na(tag))\n",
        "missing_counts\n",
        "\n",
        "missing_link <- colSums(is.na(link))\n",
        "missing_link\n"
      ],
      "metadata": {
        "colab": {
          "base_uri": "https://localhost:8080/",
          "height": 52
        },
        "id": "M1p6UQuZGYbd",
        "outputId": "277cb436-8fc5-4db9-de73-d8c424d09845"
      },
      "execution_count": 9,
      "outputs": [
        {
          "output_type": "display_data",
          "data": {
            "text/html": [
              "<style>\n",
              ".dl-inline {width: auto; margin:0; padding: 0}\n",
              ".dl-inline>dt, .dl-inline>dd {float: none; width: auto; display: inline-block}\n",
              ".dl-inline>dt::after {content: \":\\0020\"; padding-right: .5ex}\n",
              ".dl-inline>dt:not(:first-of-type) {padding-left: .5ex}\n",
              "</style><dl class=dl-inline><dt>userId</dt><dd>0</dd><dt>movieId</dt><dd>0</dd><dt>tag</dt><dd>16</dd><dt>timestamp</dt><dd>0</dd></dl>\n"
            ],
            "text/markdown": "userId\n:   0movieId\n:   0tag\n:   16timestamp\n:   0\n\n",
            "text/latex": "\\begin{description*}\n\\item[userId] 0\n\\item[movieId] 0\n\\item[tag] 16\n\\item[timestamp] 0\n\\end{description*}\n",
            "text/plain": [
              "   userId   movieId       tag timestamp \n",
              "        0         0        16         0 "
            ]
          },
          "metadata": {}
        },
        {
          "output_type": "display_data",
          "data": {
            "text/html": [
              "<style>\n",
              ".dl-inline {width: auto; margin:0; padding: 0}\n",
              ".dl-inline>dt, .dl-inline>dd {float: none; width: auto; display: inline-block}\n",
              ".dl-inline>dt::after {content: \":\\0020\"; padding-right: .5ex}\n",
              ".dl-inline>dt:not(:first-of-type) {padding-left: .5ex}\n",
              "</style><dl class=dl-inline><dt>movieId</dt><dd>0</dd><dt>imdbId</dt><dd>0</dd><dt>tmdbId</dt><dd>252</dd></dl>\n"
            ],
            "text/markdown": "movieId\n:   0imdbId\n:   0tmdbId\n:   252\n\n",
            "text/latex": "\\begin{description*}\n\\item[movieId] 0\n\\item[imdbId] 0\n\\item[tmdbId] 252\n\\end{description*}\n",
            "text/plain": [
              "movieId  imdbId  tmdbId \n",
              "      0       0     252 "
            ]
          },
          "metadata": {}
        }
      ]
    },
    {
      "cell_type": "code",
      "source": [
        "\n",
        "#Merge ratings and movies on movieId.The common column movieId links ratings with movies\n",
        "merged_data <- merge(rating, movie, by = \"movieId\")\n",
        "merged_data <- merge(merged_data, tag, by = c(\"userId\", \"movieId\"), all.x = TRUE)\n",
        "#merged_data <- merge(merged_data, link, by = \"movieId\", all.x = TRUE)\n",
        "#genome_data <- merge(genome_scores, genome_tags, by = \"tagId\")\n",
        "#merged_data <- merge(merged_data, genome_data, by = \"movieId\", all.x = TRUE)\n"
      ],
      "metadata": {
        "id": "TPYKaTb8Ga0a"
      },
      "execution_count": null,
      "outputs": []
    },
    {
      "cell_type": "code",
      "source": [
        "write.csv(merged_data, file = \"merged_data.csv\", row.names = TRUE)"
      ],
      "metadata": {
        "id": "D0UBce9PRZOJ"
      },
      "execution_count": null,
      "outputs": []
    }
  ]
}